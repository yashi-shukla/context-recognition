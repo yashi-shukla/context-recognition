{
 "cells": [
  {
   "cell_type": "code",
   "execution_count": 1,
   "metadata": {
    "collapsed": false
   },
   "outputs": [
    {
     "data": {
      "text/html": [
       "<style>@import url('../style.css')</style><script>IPython.OutputArea.prototype._should_scroll = function(){return false}</script>"
      ],
      "text/plain": [
       "<IPython.core.display.HTML object>"
      ]
     },
     "metadata": {},
     "output_type": "display_data"
    }
   ],
   "source": [
    "%%html\n",
    "<style>@import url('../style.css')</style><script>IPython.OutputArea.prototype._should_scroll = function(){return false}</script>"
   ]
  },
  {
   "cell_type": "code",
   "execution_count": 2,
   "metadata": {
    "collapsed": true
   },
   "outputs": [],
   "source": [
    "import cPickle\n",
    "\n",
    "def pretty_confusion(confusion_matrix, df, mode='recall', css_classes=['diagonal', 'cell_right'], raw=False):\n",
    "    if mode == 'recall':\n",
    "        confusion_matrix = confusion_matrix * 1000 / np.sum(confusion_matrix, axis=1) / 10.0\n",
    "        confusion_matrix = np.vectorize(lambda x: '{0}%'.format(x))(confusion_matrix)\n",
    "\n",
    "    show_headers = False if 'draggable' in css_classes else True\n",
    "\n",
    "    categories = sorted(df['category'].unique())\n",
    "    labels = map(lambda c: df[df['category'] == c]['category_name'][0:1].values[0], categories)\n",
    "    confusion_matrix = pd.DataFrame(confusion_matrix, index=labels, columns=labels)\n",
    "\n",
    "    if raw:\n",
    "        return confusion_matrix    \n",
    "    else:\n",
    "        return IPython.display.HTML(confusion_matrix.to_html(classes=css_classes, header=show_headers))\n",
    "        \n",
    "def evaluate_model(dataset, model, fold, filename):\n",
    "    import sklearn as sk\n",
    "\n",
    "    print 'Testing on fold {}'.format(fold)\n",
    "    accuracy = dataset.test_model(model)\n",
    "    aggregated = dataset.test.groupby('filename', sort=False)\n",
    "\n",
    "    if NET_MODE == 'majority':        \n",
    "        aggregated = aggregated[['category', 'category_name', 'prediction']].agg(lambda x: x.value_counts().index[0])\n",
    "    else:\n",
    "        cols = map(lambda x: 'prediction' + str(x), range(np.shape(dataset.train.y)[1]))\n",
    "        aggregated = aggregated[['category'] + cols].agg(np.mean)\n",
    "        aggregated.loc[:, 'prediction'] = np.argmax(aggregated[cols].as_matrix(), axis=1)\n",
    "        \n",
    "    conf = sk.metrics.confusion_matrix(aggregated['category'], aggregated['prediction'])\n",
    "\n",
    "    with open(filename, 'w') as f:\n",
    "        np.savetxt(f, conf)\n",
    "\n",
    "    return conf, aggregated        "
   ]
  }
 ],
 "metadata": {
  "kernelspec": {
   "display_name": "Python 2",
   "language": "python",
   "name": "python2"
  },
  "language_info": {
   "codemirror_mode": {
    "name": "ipython",
    "version": 2
   },
   "file_extension": ".py",
   "mimetype": "text/x-python",
   "name": "python",
   "nbconvert_exporter": "python",
   "pygments_lexer": "ipython2",
   "version": "2.7.11"
  }
 },
 "nbformat": 4,
 "nbformat_minor": 0
}
