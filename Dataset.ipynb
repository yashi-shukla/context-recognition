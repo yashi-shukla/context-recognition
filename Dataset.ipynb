{
 "cells": [
  {
   "cell_type": "code",
   "execution_count": 1,
   "metadata": {
    "collapsed": false
   },
   "outputs": [
    {
     "data": {
      "text/html": [
       "<style>@import url('../style.css')</style><script>IPython.OutputArea.prototype._should_scroll = function(){return false}</script>"
      ],
      "text/plain": [
       "<IPython.core.display.HTML object>"
      ]
     },
     "metadata": {},
     "output_type": "display_data"
    }
   ],
   "source": [
    "%%html\n",
    "<style>@import url('../style.css')</style><script>IPython.OutputArea.prototype._should_scroll = function(){return false}</script>"
   ]
  },
  {
   "cell_type": "code",
   "execution_count": null,
   "metadata": {
    "collapsed": true
   },
   "outputs": [],
   "source": [
    "class Dataset:\n",
    "    def __init__(self, features, fold_testing, fold_validation, shape=(-1, 60, 101, 1)):\n",
    "        train = features[(features['fold'] != fold_testing) & (features['fold'] != fold_validation)]\n",
    "        validation = features[(features['fold'] == fold_validation) & (features['augmented'] == 0)]\n",
    "        self.test = features[(features['fold'] == fold_testing) & (features['augmented'] == 0)].copy()\n",
    "        self.validation_pd = validation.copy()\n",
    "        \n",
    "        self.shape = shape\n",
    "        self.start = 'logspec_b0_f0'\n",
    "        self.end = features.columns[-1]\n",
    "        class_count = len(pd.unique(features['category']))\n",
    "        \n",
    "        X = train.loc[:, self.start:self.end].as_matrix()\n",
    "        y = Dataset.to_one_hot(train['category'].as_matrix(), class_count)\n",
    "        \n",
    "        X_validation = validation.loc[:, self.start:self.end].as_matrix()\n",
    "        y_validation = Dataset.to_one_hot(validation['category'].as_matrix(), class_count)        \n",
    "        \n",
    "        X_mean = np.mean(X)\n",
    "        X_std = np.std(X)\n",
    "        \n",
    "        X = (X - X_mean) / X_std\n",
    "        X_validation = (X_validation - X_mean) / X_std\n",
    "\n",
    "        X = np.reshape(X, self.shape, order='F')\n",
    "        X_validation = np.reshape(X_validation, self.shape, order='F')\n",
    "        \n",
    "        X = self.generate_deltas(X)\n",
    "        X_validation = self.generate_deltas(X_validation)\n",
    "        \n",
    "        self.train = pl2.datasets.DenseDesignMatrix(topo_view=X, y=y)\n",
    "        self.validation = pl2.datasets.DenseDesignMatrix(topo_view=X_validation, y=y_validation)\n",
    "        \n",
    "        self.X_mean = X_mean\n",
    "        self.X_std = X_std\n",
    "    \n",
    "    def generate_deltas(self, X):\n",
    "        new_dim = np.zeros(np.shape(X))\n",
    "        X = np.concatenate((X, new_dim), axis=3)\n",
    "        del new_dim\n",
    "        gc.collect()\n",
    "        \n",
    "        for i in range(len(X)):\n",
    "            X[i, :, :, 1] = librosa.feature.delta(X[i, :, :, 0])\n",
    "            \n",
    "        return X\n",
    "    \n",
    "    def _verify_predictions(self, model, df, verbose):\n",
    "        X = df.loc[:, self.start:self.end].as_matrix()\n",
    "        X = (X - self.X_mean) / self.X_std\n",
    "        X = np.reshape(X, self.shape, order='F')\n",
    "        X = self.generate_deltas(X)\n",
    "        \n",
    "        if NET_MODE == 'majority':\n",
    "            df.loc[:, 'prediction'] = Dataset.predict(model, X)\n",
    "        \n",
    "            group = df.groupby('filename', sort=False)\n",
    "            group = group[['category', 'prediction']].agg(lambda x: x.value_counts().index[0]) # majority vote\n",
    "        else:\n",
    "            predictions = Dataset.predict(model, X)\n",
    "            cols = map(lambda x: 'prediction' + str(x), range(np.shape(self.train.y)[1]))\n",
    "\n",
    "            for idx, col in enumerate(cols):\n",
    "                df.loc[:, col] = predictions[:, idx]\n",
    "\n",
    "            group = df.groupby('filename', sort=False)\n",
    "            group = group[['category'] + cols].agg(np.mean)\n",
    "            group.loc[:, 'prediction'] = np.argmax(group[cols].as_matrix(), axis=1)            \n",
    "            \n",
    "        accuracy = np.sum(group['category'] == group['prediction']) / float(len(group['category']))\n",
    "        \n",
    "        if verbose:\n",
    "            print 'Test accuracy: ' + str(int(accuracy * 1000) / 10.0) + '%'\n",
    "        \n",
    "        return accuracy\n",
    "    \n",
    "    def validate_model(self, model, verbose=True):\n",
    "        return self._verify_predictions(model, self.validation_pd, verbose)\n",
    "    \n",
    "    def test_model(self, model, verbose=True):\n",
    "        return self._verify_predictions(model, self.test, verbose)\n",
    "\n",
    "    @classmethod\n",
    "    def predict(cls, model, X):\n",
    "        inputs = model.get_input_space().make_theano_batch()\n",
    "        outputs = model.fprop(inputs)\n",
    "        \n",
    "        if NET_MODE == 'majority':\n",
    "            outputs = theano.tensor.argmax(outputs, axis=1)\n",
    "            \n",
    "        predict = theano.function([inputs], outputs, allow_input_downcast=True)\n",
    "        return predict(X)\n",
    "    \n",
    "    @classmethod\n",
    "    def to_one_hot(cls, labels, class_count):\n",
    "        one_hot_enc = np.zeros((len(labels), class_count))\n",
    "\n",
    "        for r in range(len(labels)):\n",
    "            one_hot_enc[r, labels[r]] = 1\n",
    "\n",
    "        return one_hot_enc"
   ]
  }
 ],
 "metadata": {
  "kernelspec": {
   "display_name": "Python 2",
   "language": "python",
   "name": "python2"
  },
  "language_info": {
   "codemirror_mode": {
    "name": "ipython",
    "version": 2
   },
   "file_extension": ".py",
   "mimetype": "text/x-python",
   "name": "python",
   "nbconvert_exporter": "python",
   "pygments_lexer": "ipython2",
   "version": "2.7.11"
  }
 },
 "nbformat": 4,
 "nbformat_minor": 0
}
