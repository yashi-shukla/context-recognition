{
 "cells": [
  {
   "cell_type": "code",
   "execution_count": 1,
   "metadata": {
    "collapsed": false
   },
   "outputs": [
    {
     "data": {
      "text/html": [
       "<style>@import url('../style.css')</style><script>IPython.OutputArea.prototype._should_scroll = function(){return false}</script>"
      ],
      "text/plain": [
       "<IPython.core.display.HTML object>"
      ]
     },
     "metadata": {},
     "output_type": "display_data"
    }
   ],
   "source": [
    "%%html\n",
    "<style>@import url('../style.css')</style><script>IPython.OutputArea.prototype._should_scroll = function(){return false}</script>"
   ]
  },
  {
   "cell_type": "code",
   "execution_count": null,
   "metadata": {
    "collapsed": false
   },
   "outputs": [],
   "source": [
    "try:\n",
    "    IMPORT_PATH\n",
    "except NameError:\n",
    "    IMPORT_PATH = ''\n",
    "    \n",
    "%run -i {IMPORT_PATH + 'Dataset.ipynb'}\n",
    "\n",
    "import theano\n",
    "import pylearn2 as pl2\n",
    "import pylearn2.models.mlp\n",
    "import pylearn2.costs.mlp.dropout\n",
    "import pylearn2.training_algorithms.sgd\n",
    "import pylearn2.termination_criteria\n",
    "import pylearn2.space\n",
    "from pylearn2.models.mlp import ConvRectifiedLinear as ConvReLU\n",
    "from pylearn2.models.mlp import RectifiedLinear as ReLU\n",
    "from pylearn2.models.mlp import Softmax\n",
    "\n",
    "def learn_network(plot_filename='', class_count=10, epochs=100, learning_rate=0.002, filter_count=80,\n",
    "                  dropout=[1.0, 0.5, 1.0, 0.5, 0.5], batch_size=1000):\n",
    "\n",
    "    cost = pl2.costs.cost.SumOfCosts([pl2.costs.mlp.dropout.Dropout(input_include_probs={\n",
    "                'c0': dropout[0],\n",
    "                'c1': dropout[1],\n",
    "                'h0': dropout[2],\n",
    "                'h1': dropout[3],\n",
    "                'out': dropout[4]\n",
    "    }),\n",
    "    pl2.costs.mlp.WeightDecay({\n",
    "                'c0': 0.001,\n",
    "                'c1': 0.001,\n",
    "                'h0': 0.001,\n",
    "                'h1': 0.001,\n",
    "                'out': 0.001\n",
    "    }) ])\n",
    "    \n",
    "    layers = [\n",
    "        ConvReLU(layer_name='c0', kernel_shape=[57, 6], pool_shape=[4, 3], pool_stride=[1, 3], pool_type='max',\n",
    "                 output_channels=filter_count, irange=0.001, init_bias=0.1),\n",
    "        ConvReLU(layer_name='c1', kernel_shape=[1, 3], pool_shape=[1, 3], pool_stride=[1, 3], pool_type='max',\n",
    "                 output_channels=filter_count, irange=0.1),\n",
    "        ReLU(layer_name='h0', dim=5000, istdev=0.01),\n",
    "        ReLU(layer_name='h1', dim=5000, istdev=0.01),\n",
    "        Softmax(layer_name='out', n_classes=class_count, istdev=0.01)\n",
    "    ]\n",
    "    \n",
    "    if NET_WINDOW_SIZE == 'short':\n",
    "        model = pl2.models.mlp.MLP(layers, batch_size=batch_size, input_space=pl2.space.Conv2DSpace([60, 41], channels=2))\n",
    "    else:\n",
    "        model = pl2.models.mlp.MLP(layers, batch_size=batch_size, input_space=pl2.space.Conv2DSpace([60, 101], channels=2))\n",
    "        \n",
    "    trainer = pl2.training_algorithms.sgd.SGD(learning_rate=learning_rate, cost=cost,\n",
    "               learning_rule=pl2.training_algorithms.learning_rule.Momentum(init_momentum=0.9, nesterov_momentum=True),\n",
    "               monitoring_dataset={'training': dataset.train, 'validation': dataset.validation},\n",
    "               termination_criterion=pl2.termination_criteria.EpochCounter(epochs - 1),                                                  \n",
    "               train_iteration_mode='even_shuffled_sequential', monitor_iteration_mode='even_shuffled_sequential')\n",
    "    \n",
    "    training_misclass = []\n",
    "    validation_misclass = []\n",
    "    \n",
    "    try:\n",
    "        gc.collect()\n",
    "        trainer.setup(model, dataset.train)\n",
    "        f = plt.figure(figsize=(12, 12))\n",
    "\n",
    "        while True:\n",
    "            start_time = time.time()\n",
    "            logging.disable(logging.INFO)\n",
    "            \n",
    "            trainer.train(dataset=dataset.train)\n",
    "            model.monitor.report_epoch()\n",
    "            model.monitor()\n",
    "            training_misclass.append(pl2.monitor.read_channel(model, 'training_out_misclass'))\n",
    "            validation_misclass.append(1 - dataset.validate_model(model, False))\n",
    "            \n",
    "            time_elapsed = time.time() - start_time\n",
    "            logging.disable(logging.NOTSET)            \n",
    "\n",
    "            # Plot\n",
    "            cmap = sb.diverging_palette(220, 10, as_cmap=True)\n",
    "            cmap_delta = sb.diverging_palette(220, 19, as_cmap=True)\n",
    "            \n",
    "            ax = plt.subplot2grid((10, filter_count // 4), (0, 0), colspan=filter_count // 4, rowspan=2)\n",
    "            x = range(len(training_misclass))\n",
    "            ax.plot(x, training_misclass, 'g-', validation_misclass, 'r-')\n",
    "            ax.set_ylim((0.0, 1.0))\n",
    "            ax.set_xlim((0.0, epochs))\n",
    "            ax.get_xaxis().set_visible(False)\n",
    "            plt.title('Training accuracy: {}% / Validation accuracy: {}% | Epoch {} | Loss {} | Time/epoch: {} s'.format(\n",
    "                    to_percentage(1 - training_misclass[-1]), to_percentage(1 - validation_misclass[-1]),\n",
    "                    model.monitor.get_epochs_seen(), str(pl2.monitor.read_channel(model, 'training_objective'))[0:5],\n",
    "                    int(time_elapsed)))\n",
    "\n",
    "            for i in range(filter_count):\n",
    "                ax = plt.subplot2grid((10, filter_count // 4), (i / (filter_count // 4) * 2 + 2, i % (filter_count // 4)))\n",
    "                ax.imshow(model.layers[0].get_weights_topo()[i, :, :, 0], origin='lower', aspect='auto', cmap=cmap, interpolation='nearest')\n",
    "                ax.get_xaxis().set_visible(False)\n",
    "                ax.get_yaxis().set_visible(False)\n",
    "                ax = plt.subplot2grid((10, filter_count // 4), (i / (filter_count // 4) * 2 + 3, i % (filter_count // 4)))\n",
    "                ax.imshow(model.layers[0].get_weights_topo()[i, :, :, 1], origin='lower', aspect='auto', cmap=cmap_delta, interpolation='nearest')\n",
    "                ax.get_xaxis().set_visible(False)\n",
    "                ax.get_yaxis().set_visible(False)\n",
    "\n",
    "            f.subplots_adjust(wspace=0.0)\n",
    "            IPython.display.display(plt.gcf())\n",
    "            IPython.display.clear_output(wait=True)\n",
    "\n",
    "            plt.savefig(plot_filename + '.png', bbox_inches='tight')\n",
    "            plt.savefig(plot_filename + '.pdf', bbox_inches='tight')\n",
    "\n",
    "            if not trainer.continue_learning(model):\n",
    "                return model\n",
    "    except KeyboardInterrupt:\n",
    "        return model"
   ]
  },
  {
   "cell_type": "code",
   "execution_count": 3,
   "metadata": {
    "collapsed": false
   },
   "outputs": [
    {
     "data": {
      "text/html": [
       "<style>@import url('../style.css')</style><script>IPython.OutputArea.prototype._should_scroll = function(){return false}</script>"
      ],
      "text/plain": [
       "<IPython.core.display.HTML object>"
      ]
     },
     "metadata": {},
     "output_type": "display_data"
    }
   ],
   "source": [
    "%run -i {IMPORT_PATH + 'Evaluation.ipynb'}"
   ]
  }
 ],
 "metadata": {
  "kernelspec": {
   "display_name": "Python 2",
   "language": "python",
   "name": "python2"
  },
  "language_info": {
   "codemirror_mode": {
    "name": "ipython",
    "version": 2
   },
   "file_extension": ".py",
   "mimetype": "text/x-python",
   "name": "python",
   "nbconvert_exporter": "python",
   "pygments_lexer": "ipython2",
   "version": "2.7.11"
  }
 },
 "nbformat": 4,
 "nbformat_minor": 0
}
